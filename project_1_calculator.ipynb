{
 "cells": [
  {
   "cell_type": "code",
   "execution_count": 7,
   "id": "928dcef2",
   "metadata": {},
   "outputs": [
    {
     "name": "stdout",
     "output_type": "stream",
     "text": [
      "enter ur 1st num = \n"
     ]
    },
    {
     "ename": "ValueError",
     "evalue": "could not convert string to float: ''",
     "output_type": "error",
     "traceback": [
      "\u001b[1;31m---------------------------------------------------------------------------\u001b[0m",
      "\u001b[1;31mValueError\u001b[0m                                Traceback (most recent call last)",
      "Cell \u001b[1;32mIn[7], line 23\u001b[0m\n\u001b[0;32m     19\u001b[0m         \u001b[38;5;28;01mreturn\u001b[39;00m num_1 \u001b[38;5;241m/\u001b[39m num_2\n\u001b[0;32m     22\u001b[0m \u001b[38;5;28;01mwhile\u001b[39;00m \u001b[38;5;28;01mTrue\u001b[39;00m:\n\u001b[1;32m---> 23\u001b[0m     num_1 \u001b[38;5;241m=\u001b[39m \u001b[38;5;28mfloat\u001b[39m(\u001b[38;5;28minput\u001b[39m(\u001b[38;5;124m'\u001b[39m\u001b[38;5;124menter ur 1st num = \u001b[39m\u001b[38;5;124m'\u001b[39m))\n\u001b[0;32m     24\u001b[0m     command \u001b[38;5;241m=\u001b[39m \u001b[38;5;28minput\u001b[39m ()\n\u001b[0;32m     25\u001b[0m     num_2 \u001b[38;5;241m=\u001b[39m \u001b[38;5;28mfloat\u001b[39m(\u001b[38;5;28minput\u001b[39m(\u001b[38;5;124m'\u001b[39m\u001b[38;5;124menter ur 2nd num = \u001b[39m\u001b[38;5;124m'\u001b[39m))\n",
      "\u001b[1;31mValueError\u001b[0m: could not convert string to float: ''"
     ]
    }
   ],
   "source": [
    "# 1st project\n",
    "\n",
    "def add(num_1,num_2):\n",
    "    return num_1+num_2\n",
    "\n",
    "def sub(num_1,num_2):\n",
    "    return num_1-num_2\n",
    "\n",
    "def mult (num_1,num_2):\n",
    "    return num_1*num_2\n",
    "\n",
    "def div (num_1,num_2):\n",
    "    if num_2 == 0 :\n",
    "        try:\n",
    "            print(num_1 / num_2)\n",
    "        except:\n",
    "            print('cannot divide by zero') \n",
    "    else:\n",
    "        return num_1 / num_2\n",
    "    \n",
    "    \n",
    "while True:\n",
    "    num_1 = float(input('enter ur 1st num = '))\n",
    "    command = input ()\n",
    "    num_2 = float(input('enter ur 2nd num = '))\n",
    "    \n",
    "    if command == '+':\n",
    "        print ('Result =',add(num_1,num_2))\n",
    "    elif command == '*':\n",
    "        print ('Result =',mult(num_1,num_2))\n",
    "    elif command == '-':\n",
    "        print ('Result =',sub(num_1,num_2))\n",
    "    elif command == '/':\n",
    "        print ('Result =',div(num_1,num_2))\n",
    "    else:\n",
    "        print(\"Invalid input\")\n",
    "    \n",
    "    another_operation = input(\"Do you want another operation? yes,no : \")\n",
    "    if another_operation.lower() != 'yes':\n",
    "        break"
   ]
  },
  {
   "cell_type": "code",
   "execution_count": null,
   "id": "a2632229",
   "metadata": {
    "scrolled": true
   },
   "outputs": [
    {
     "name": "stdout",
     "output_type": "stream",
     "text": [
      "enter ur 1st num = 5\n",
      "*\n",
      "enter ur 2nd num = 2\n",
      "Result = 10.0\n"
     ]
    }
   ],
   "source": [
    "\n",
    "    \n",
    "from calculator import *  # * >> all functions in the file \n",
    "\n",
    "\n",
    "while True:\n",
    "    num_1 = float(input('enter ur 1st num = '))\n",
    "    command = input ()\n",
    "    num_2 = float(input('enter ur 2nd num = '))\n",
    "    \n",
    "    if command == '+':\n",
    "        print ('Result =',addition(num_1,num_2))\n",
    "    elif command == '*':\n",
    "        print ('Result =',multiple(num_1,num_2))\n",
    "    elif command == '-':\n",
    "        print ('Result =',subtrct(num_1,num_2))\n",
    "    elif command == '/':\n",
    "        print ('Result =',division(num_1,num_2))\n",
    "    else:\n",
    "        print(\"Invalid input\")\n",
    "    \n",
    "    another_operation = input(\"Do you want another operation? yes,no : \")\n",
    "    if another_operation.lower() != 'yes':\n",
    "        break"
   ]
  },
  {
   "cell_type": "code",
   "execution_count": null,
   "id": "e5a1f2d2",
   "metadata": {},
   "outputs": [],
   "source": []
  },
  {
   "cell_type": "code",
   "execution_count": null,
   "id": "1513187c",
   "metadata": {},
   "outputs": [],
   "source": []
  }
 ],
 "metadata": {
  "kernelspec": {
   "display_name": "Python 3 (ipykernel)",
   "language": "python",
   "name": "python3"
  },
  "language_info": {
   "codemirror_mode": {
    "name": "ipython",
    "version": 3
   },
   "file_extension": ".py",
   "mimetype": "text/x-python",
   "name": "python",
   "nbconvert_exporter": "python",
   "pygments_lexer": "ipython3",
   "version": "3.11.4"
  }
 },
 "nbformat": 4,
 "nbformat_minor": 5
}
